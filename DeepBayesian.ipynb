{
 "cells": [
  {
   "cell_type": "markdown",
   "id": "7bf86058",
   "metadata": {},
   "source": [
    "# Implementaion of [1]\n",
    "\n",
    "- The paper's MSE is diffferent from our result. It is due to dephasing, which is represented by $\\alpha$ and $\\beta$.\n",
    "- The ideal result is obtained in the case of $\\alpha=0$ and $\\beta=1$.\n",
    "\n",
    "- **MSE is the average variance, not standard deviation.**\n",
    "\n",
    "- The standard deviation informs how faithful is an estimation."
   ]
  },
  {
   "cell_type": "code",
   "execution_count": 113,
   "id": "cfbebafd",
   "metadata": {},
   "outputs": [],
   "source": [
    "import numpy as np\n",
    "from numpy import pi, cos, sqrt, log\n",
    "from matplotlib import pyplot as plt\n",
    "import statistics as stats\n",
    "from tqdm import tqdm"
   ]
  },
  {
   "cell_type": "code",
   "execution_count": 117,
   "id": "2b7c7a39",
   "metadata": {},
   "outputs": [],
   "source": [
    "f0 = 100e6\n",
    "w0 = 2 * pi * f0\n",
    "tau = pi/w0/1.5\n",
    "alpha = 0.25\n",
    "beta = 0.67"
   ]
  },
  {
   "cell_type": "code",
   "execution_count": 121,
   "id": "bf8f9468",
   "metadata": {},
   "outputs": [],
   "source": [
    "# Trigonometric polynomial of the coin probability\n",
    "\n",
    "def tripoly1sample(r, m):\n",
    "    lst = [0] * (2*m + 1)\n",
    "    lst[0] = r * beta * 1/2\n",
    "    lst[2*m] = r * beta * 1/2\n",
    "    lst[m] = 1 + alpha\n",
    "    \n",
    "    return np.poly1d(lst)"
   ]
  },
  {
   "cell_type": "markdown",
   "id": "a72d1d2a",
   "metadata": {},
   "source": [
    "## Bayesian Estimation (n=1, m=1, 2, ..., N)"
   ]
  },
  {
   "cell_type": "code",
   "execution_count": 120,
   "id": "130142bf",
   "metadata": {
    "scrolled": true
   },
   "outputs": [
    {
     "name": "stdout",
     "output_type": "stream",
     "text": [
      "Avg: 100.072185\n",
      "Std: 0.336132\n"
     ]
    }
   ],
   "source": [
    "N = 100\n",
    "\n",
    "def toss(m):\n",
    "    p = .5*(1 + alpha + beta * cos(w0 * m * tau))\n",
    "    return np.random.choice([1, -1], p=[p, 1-p])\n",
    "\n",
    "ml = list(range(1, N+1))\n",
    "ml = [round((1.05)**i) for i in range(1, N+1)]\n",
    "# ml = list(range(1, (N+1)//3))*3\n",
    "rl = [toss(m) for m in ml]\n",
    "\n",
    "tripolyN = 1\n",
    "for m, r in zip (ml, rl):\n",
    "    tripolyN *= tripoly1sample(r, m)\n",
    "    \n",
    "coeff = tripolyN.c\n",
    "M = (len(coeff)-1)//2\n",
    "coeff = np.divide(coeff, coeff[M])\n",
    "\n",
    "coeff_avg = []\n",
    "for n in range(-M, M+1):\n",
    "    if n == 0:\n",
    "        coeff_avg.append(pi/2)\n",
    "    else:\n",
    "        coeff_avg.append(((-1)**n-1)/n**2/pi)\n",
    "\n",
    "coeff_sqavg = []\n",
    "for n in range(-M, M+1):\n",
    "    if n == 0:\n",
    "        coeff_sqavg.append(pi**2/3)\n",
    "    else:\n",
    "        coeff_sqavg.append((-1)**n*2/n**2)\n",
    "\n",
    "avg = np.dot(coeff, coeff_avg)/2/pi/tau\n",
    "sqavg = np.dot(coeff, coeff_sqavg)/(2*pi*tau)**2\n",
    "sd = sqrt(sqavg-avg**2)\n",
    "\n",
    "print(f\"Avg: {avg/1e6:.6f}\")\n",
    "print(f\"Std: {sd/1e6:.6f}\")"
   ]
  },
  {
   "cell_type": "markdown",
   "id": "d0cf8830",
   "metadata": {},
   "source": [
    "## Adaptive Method"
   ]
  },
  {
   "cell_type": "code",
   "execution_count": null,
   "id": "b57a8926",
   "metadata": {},
   "outputs": [],
   "source": []
  },
  {
   "cell_type": "markdown",
   "id": "cf65013c",
   "metadata": {},
   "source": [
    "# Try on [2]"
   ]
  },
  {
   "cell_type": "code",
   "execution_count": null,
   "id": "94e92f56",
   "metadata": {},
   "outputs": [],
   "source": []
  },
  {
   "cell_type": "code",
   "execution_count": null,
   "id": "37677335",
   "metadata": {},
   "outputs": [],
   "source": []
  },
  {
   "cell_type": "code",
   "execution_count": null,
   "id": "24e45df8",
   "metadata": {},
   "outputs": [],
   "source": []
  },
  {
   "cell_type": "markdown",
   "id": "46830f6b",
   "metadata": {},
   "source": [
    "# Reference\n",
    "\n",
    "[1] Sergeevich, A., Chandran, A., Combes, J., Bartlett, S. D., & Wiseman, H. M. (2011). Characterization of a qubit Hamiltonian using adaptive measurements in a fixed basis. Physical Review A - Atomic, Molecular, and Optical Physics, 84(5), 052315. https://doi.org/10.1103/PhysRevA.84.052315\n",
    "\n",
    "[2] Ferrie, C., Granade, C. E., & Cory, D. G. (2013). How to best sample a periodic probability distribution, or on the accuracy of Hamiltonian finding strategies. Quantum Information Processing 2012 12:1, 12(1), 611–623. https://doi.org/10.1007/S11128-012-0407-6"
   ]
  }
 ],
 "metadata": {
  "kernelspec": {
   "display_name": "Python 3",
   "language": "python",
   "name": "python3"
  },
  "language_info": {
   "codemirror_mode": {
    "name": "ipython",
    "version": 3
   },
   "file_extension": ".py",
   "mimetype": "text/x-python",
   "name": "python",
   "nbconvert_exporter": "python",
   "pygments_lexer": "ipython3",
   "version": "3.8.10"
  }
 },
 "nbformat": 4,
 "nbformat_minor": 5
}
